{
 "cells": [
  {
   "cell_type": "code",
   "execution_count": 34,
   "metadata": {},
   "outputs": [],
   "source": [
    "import git\n",
    "import os\n",
    "import pandas as pd"
   ]
  },
  {
   "cell_type": "code",
   "execution_count": 22,
   "metadata": {},
   "outputs": [],
   "source": [
    "# check if the repository exists at ./tmp/git-viz\n",
    "# if it does, pull the latest changes\n",
    "# if it doesn't, clone the repository\n",
    "def get_repo():\n",
    "    if os.path.exists(\"./tmp/git-viz\"):\n",
    "        # Git pull the latest changes\n",
    "        repo = git.Repo(\"./tmp/git-viz\")\n",
    "        repo.remotes.origin.pull()\n",
    "        return repo\n",
    "    else:\n",
    "        # Git clone the repository into ./tmp\n",
    "        url = \"https://github.com/Veikkosuhonen/git-viz\"\n",
    "        return git.Repo.clone_from(url, \"./tmp/git-viz\")\n",
    "    \n",
    "repo = get_repo()"
   ]
  },
  {
   "cell_type": "code",
   "execution_count": 6,
   "metadata": {},
   "outputs": [
    {
     "name": "stdout",
     "output_type": "stream",
     "text": [
      "Commit: d42bb534668f8725b01734c26c83e9989162f0f1\n",
      "Author: Veikko Suhonen\n",
      "Date: 2024-04-10 21:07:09+03:00\n",
      "Message: Update pages.yml\n",
      "\n",
      "Commit: c453cb6512f355b8d165eb8358a88aaf9a90dc41\n",
      "Author: Veikkosuhonen\n",
      "Date: 2024-04-10 21:05:14+03:00\n",
      "Message: Add gh pages action\n",
      "\n",
      "\n",
      "Commit: 6082c4097f70262be17f776cb8e8d221119c61d0\n",
      "Author: Veikkosuhonen\n",
      "Date: 2024-04-10 21:02:03+03:00\n",
      "Message: Scaffold #2\n",
      "\n",
      "\n",
      "Commit: af9549ec67c0191e95d53345e661fe8932211511\n",
      "Author: Veikkosuhonen\n",
      "Date: 2024-04-10 20:43:27+03:00\n",
      "Message: Scaffold\n",
      "\n",
      "\n"
     ]
    }
   ],
   "source": [
    "# Get the commit history and print it\n",
    "\n",
    "commits = list(repo.iter_commits('master'))\n",
    "\n",
    "for commit in commits:\n",
    "    print(f\"Commit: {commit.hexsha}\")\n",
    "    print(f\"Author: {commit.author}\")\n",
    "    print(f\"Date: {commit.authored_datetime}\")\n",
    "    print(f\"Message: {commit.message}\")\n",
    "    print()\n"
   ]
  },
  {
   "cell_type": "code",
   "execution_count": 20,
   "metadata": {},
   "outputs": [
    {
     "name": "stdout",
     "output_type": "stream",
     "text": [
      ".github/workflows/pages.yml\n",
      "=======================================================\n",
      "lhs: 100644 | f0543115a9d95eec471f9f3ac9a44f1b5896277f\n",
      "rhs: 100644 | edf6b6ce9e756f414e2420d1c33f5344a5cd1238\n",
      "---@@ -4,7 +4,7 @@ name: Deploy static content to Pages\n",
      " on:\n",
      "   # Runs on pushes targeting the default branch\n",
      "   push:\n",
      "-    branches: ['master']\n",
      "+    branches: ['main']\n",
      " \n",
      "   # Allows you to run this workflow manually from the Actions tab\n",
      "   workflow_dispatch:\n",
      "\n",
      "---\n"
     ]
    }
   ],
   "source": [
    "# Print the changes in the latest commit\n",
    "\n",
    "\n",
    "# Get the latest commit in the repo\n",
    "latest_commit = repo.head.commit\n",
    "\n",
    "# Diff the latest commit against its first parent (if it has one)\n",
    "# If it's the very first commit, then diff against an empty tree instead\n",
    "if latest_commit.parents:\n",
    "    # Get diff from the first parent of the commit, assuming the typical case of a single parent\n",
    "    diff = latest_commit.diff('HEAD~1', create_patch=True)\n",
    "else:\n",
    "    # If it's the first commit, diff against the empty tree\n",
    "    # Create an empty tree object\n",
    "    empty_tree = repo.tree()\n",
    "    diff = latest_commit.diff(empty_tree, create_patch=True)\n",
    "\n",
    "# Print the diff\n",
    "for d in diff:\n",
    "    print(d)\n",
    "\n"
   ]
  },
  {
   "cell_type": "code",
   "execution_count": 23,
   "metadata": {},
   "outputs": [
    {
     "name": "stdout",
     "output_type": "stream",
     "text": [
      "Total insertions: 1\n",
      "Total deletions: 1\n",
      "Total lines changed: 2\n"
     ]
    }
   ],
   "source": [
    "# Assuming 'repo' is a git.Repo instance pointing to the desired repository\n",
    "try:\n",
    "    # Get the latest commit\n",
    "    latest_commit = repo.head.commit\n",
    "\n",
    "    # Get the stats object from the latest commit, which contains the\n",
    "    # number of deletions and insertions\n",
    "    stats = latest_commit.stats\n",
    "\n",
    "    total_lines_changed = stats.total['insertions']\n",
    "    total_deletions = stats.total['deletions']\n",
    "    total_lines_changed = total_lines_changed + total_deletions\n",
    "\n",
    "    # Print the number of changed lines (insertions + deletions)\n",
    "    print(f\"Total insertions: {total_lines_changed}\")\n",
    "    print(f\"Total deletions: {total_deletions}\")\n",
    "    print(f\"Total lines changed: {total_lines_changed}\")\n",
    "\n",
    "except git.exc.GitCommandError as e:\n",
    "    print(f\"Error accessing latest commit stats: {e}\")"
   ]
  },
  {
   "cell_type": "code",
   "execution_count": 33,
   "metadata": {},
   "outputs": [
    {
     "name": "stdout",
     "output_type": "stream",
     "text": [
      "Commit: d42bb534668f8725b01734c26c83e9989162f0f1 - Update pages.yml - Veikko Suhonen - 2024-04-10 21:07:09+03:00\n",
      "Total lines changed: 2\n",
      "Total files changed: 1\n",
      "\n",
      "Commit: c453cb6512f355b8d165eb8358a88aaf9a90dc41 - Add gh pages action - Veikkosuhonen - 2024-04-10 21:05:14+03:00\n",
      "Total lines changed: 45\n",
      "Total files changed: 1\n",
      "\n",
      "Commit: 6082c4097f70262be17f776cb8e8d221119c61d0 - Scaffold #2 - Veikkosuhonen - 2024-04-10 21:02:03+03:00\n",
      "Total lines changed: 1749\n",
      "Total files changed: 26\n",
      "\n",
      "Commit: af9549ec67c0191e95d53345e661fe8932211511 - Scaffold - Veikkosuhonen - 2024-04-10 20:43:27+03:00\n",
      "Total lines changed: 274\n",
      "Total files changed: 19\n",
      "\n"
     ]
    }
   ],
   "source": [
    "# Iterate each commit\n",
    "for commit in repo.iter_commits('master'):\n",
    "    # Get the stats object from the commit\n",
    "    stats = commit.stats\n",
    "\n",
    "    total_lines_changed = stats.total['lines']\n",
    "\n",
    "    # Get the number of changed files\n",
    "    total_files_changed = len(stats.files)\n",
    "\n",
    "    # Print the number of changed lines\n",
    "    print(f\"Commit: {commit.hexsha} - {commit.summary} - {commit.author} - {commit.authored_datetime}\")\n",
    "    print(f\"Total lines changed: {total_lines_changed}\")\n",
    "    print(f\"Total files changed: {total_files_changed}\")\n",
    "    print()"
   ]
  },
  {
   "cell_type": "code",
   "execution_count": 29,
   "metadata": {},
   "outputs": [
    {
     "name": "stdout",
     "output_type": "stream",
     "text": [
      "{'insertions': 1, 'deletions': 1, 'lines': 2, 'files': 1}\n"
     ]
    }
   ],
   "source": [
    "print(repo.head.commit.stats.total)"
   ]
  },
  {
   "cell_type": "code",
   "execution_count": null,
   "metadata": {},
   "outputs": [],
   "source": []
  }
 ],
 "metadata": {
  "kernelspec": {
   "display_name": "base",
   "language": "python",
   "name": "python3"
  },
  "language_info": {
   "codemirror_mode": {
    "name": "ipython",
    "version": 3
   },
   "file_extension": ".py",
   "mimetype": "text/x-python",
   "name": "python",
   "nbconvert_exporter": "python",
   "pygments_lexer": "ipython3",
   "version": "3.11.4"
  }
 },
 "nbformat": 4,
 "nbformat_minor": 2
}
